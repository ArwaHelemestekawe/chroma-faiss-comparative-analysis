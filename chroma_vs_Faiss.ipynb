{
 "cells": [
  {
   "cell_type": "code",
   "execution_count": null,
   "metadata": {
    "executionInfo": {
     "elapsed": 1,
     "status": "ok",
     "timestamp": 1752041765033,
     "user": {
      "displayName": "Arwa Hashem",
      "userId": "03711857765712881743"
     },
     "user_tz": -180
    },
    "id": "fmWH2e8NuK3X"
   },
   "outputs": [],
   "source": [
    "# !pip install datasets faiss-cpu==1.7.4 chromadb==0.4.22 sentence-transformers==2.3.1"
   ]
  },
  {
   "cell_type": "code",
   "execution_count": null,
   "metadata": {
    "executionInfo": {
     "elapsed": 2,
     "status": "ok",
     "timestamp": 1752041765037,
     "user": {
      "displayName": "Arwa Hashem",
      "userId": "03711857765712881743"
     },
     "user_tz": -180
    },
    "id": "yoiXG0-glNV3"
   },
   "outputs": [],
   "source": [
    "import numpy as np\n",
    "import pandas as pd\n",
    "import seaborn as sns\n",
    "import matplotlib.pyplot as plt"
   ]
  },
  {
   "cell_type": "code",
   "execution_count": null,
   "metadata": {
    "colab": {
     "base_uri": "https://localhost:8080/"
    },
    "executionInfo": {
     "elapsed": 178,
     "status": "ok",
     "timestamp": 1752041765216,
     "user": {
      "displayName": "Arwa Hashem",
      "userId": "03711857765712881743"
     },
     "user_tz": -180
    },
    "id": "q5RcfRSnlZfq",
    "outputId": "a3728c31-0c07-4895-ae75-16c310e14dd9"
   },
   "outputs": [],
   "source": [
    "splits = {'train': 'ar-qna-train-data-hf.csv', 'test': 'ar-qna-test-data-hf.csv'}\n",
    "train_data = pd.read_csv(\"hf://datasets/sadeem-ai/arabic-qna/\" + splits[\"train\"])\n",
    "df = pd.read_parquet(\"hf://datasets/arbml/SANAD/data/train-00000-of-00001.parquet\")\n"
   ]
  },
  {
   "cell_type": "code",
   "execution_count": null,
   "metadata": {},
   "outputs": [],
   "source": [
    "df.head()"
   ]
  },
  {
   "cell_type": "code",
   "execution_count": null,
   "metadata": {},
   "outputs": [],
   "source": [
    "df.isnull().sum()\n",
    "df.shape"
   ]
  },
  {
   "cell_type": "code",
   "execution_count": null,
   "metadata": {},
   "outputs": [],
   "source": [
    "data_filtered=df[df[\"Article\"].apply(lambda x :len(x)>=100)]\n"
   ]
  },
  {
   "cell_type": "code",
   "execution_count": null,
   "metadata": {},
   "outputs": [],
   "source": [
    "data_filtered=data_filtered.sample(frac=1,random_state=42).reset_index(drop=True)"
   ]
  },
  {
   "cell_type": "code",
   "execution_count": null,
   "metadata": {
    "colab": {
     "base_uri": "https://localhost:8080/",
     "height": 449
    },
    "executionInfo": {
     "elapsed": 87,
     "status": "ok",
     "timestamp": 1752041765306,
     "user": {
      "displayName": "Arwa Hashem",
      "userId": "03711857765712881743"
     },
     "user_tz": -180
    },
    "id": "jpuh_ooRloL1",
    "outputId": "6360a888-972f-44d3-c9c4-8bb1560df7ed"
   },
   "outputs": [],
   "source": [
    "train_data.head(2)"
   ]
  },
  {
   "cell_type": "code",
   "execution_count": null,
   "metadata": {
    "colab": {
     "base_uri": "https://localhost:8080/"
    },
    "executionInfo": {
     "elapsed": 10,
     "status": "ok",
     "timestamp": 1752041765317,
     "user": {
      "displayName": "Arwa Hashem",
      "userId": "03711857765712881743"
     },
     "user_tz": -180
    },
    "id": "1xIjkW3VlsTq",
    "outputId": "8ab27e7f-e418-4a9b-8358-a29fe37b5857"
   },
   "outputs": [],
   "source": [
    "data_with_answer=train_data[train_data[\"has_answer\"]==True]\n",
    "print(\"training data shape\",train_data.shape)\n",
    "print(\"data_with answer\",data_with_answer.shape)\n",
    "data_with_answer.reset_index(inplace=True)\n",
    "data_with_answer[\"id\"]=[x for x in range(0,4037)]\n",
    "data_with_answer.tail()"
   ]
  },
  {
   "cell_type": "code",
   "execution_count": null,
   "metadata": {
    "colab": {
     "base_uri": "https://localhost:8080/",
     "height": 899
    },
    "executionInfo": {
     "elapsed": 22,
     "status": "ok",
     "timestamp": 1752041765360,
     "user": {
      "displayName": "Arwa Hashem",
      "userId": "03711857765712881743"
     },
     "user_tz": -180
    },
    "id": "bcoZrNtLlwDv",
    "outputId": "f5504350-0195-4483-bc9f-265871d173bf"
   },
   "outputs": [],
   "source": [
    "text=train_data[\"text\"]\n",
    "text"
   ]
  },
  {
   "cell_type": "code",
   "execution_count": null,
   "metadata": {
    "colab": {
     "base_uri": "https://localhost:8080/",
     "height": 830
    },
    "executionInfo": {
     "elapsed": 29,
     "status": "ok",
     "timestamp": 1752041765391,
     "user": {
      "displayName": "Arwa Hashem",
      "userId": "03711857765712881743"
     },
     "user_tz": -180
    },
    "id": "DOSWt_iFlzU9",
    "outputId": "d063bb0d-53d7-4c58-9b94-10cd93c879c9"
   },
   "outputs": [],
   "source": [
    "meta_data=train_data[[\"source\",\"title\"]]\n",
    "meta_data"
   ]
  },
  {
   "cell_type": "code",
   "execution_count": null,
   "metadata": {
    "executionInfo": {
     "elapsed": 1485,
     "status": "ok",
     "timestamp": 1752041766868,
     "user": {
      "displayName": "Arwa Hashem",
      "userId": "03711857765712881743"
     },
     "user_tz": -180
    },
    "id": "gIBWzUJcl1O7"
   },
   "outputs": [],
   "source": [
    "from sentence_transformers import SentenceTransformer\n",
    "model_id = \"sentence-transformers/distiluse-base-multilingual-cased-v2\"\n",
    "device=\"cpu\"\n",
    "len_of_each_text=512\n",
    "sentense_T=SentenceTransformer(model_id,device)"
   ]
  },
  {
   "cell_type": "code",
   "execution_count": null,
   "metadata": {},
   "outputs": [],
   "source": [
    "new_text=data_filtered[\"Article\"].iloc[0:30000]\n",
    "new_text"
   ]
  },
  {
   "cell_type": "code",
   "execution_count": null,
   "metadata": {},
   "outputs": [],
   "source": [
    "arr2=pd.concat([train_data[\"text\"],new_text],ignore_index=True)\n",
    "arr2\n",
    "arr2=np.array(arr2)\n",
    "len(arr2)"
   ]
  },
  {
   "cell_type": "code",
   "execution_count": null,
   "metadata": {
    "colab": {
     "base_uri": "https://localhost:8080/",
     "height": 532,
     "referenced_widgets": [
      "c6ff495c5c8c4987b5ab7649ac2a8479",
      "5aad99ddcaa74a4db732d1013fb506a7",
      "dd9354779c2e4f059be19470fc69a716",
      "ea36e90213e04abdb1ca7ae34cf5e722",
      "b3aa77162259422cb5aee5dbd717c26b",
      "9e1339a442a3435791520378ec1160de",
      "2fa0f9d87d9e481badb06e92d54f1829",
      "ab634e6a3bac46c2bca18c44fe49a459",
      "ad012ef081f64f86a614d0f410c7e46d",
      "d44c270bce1d45989191cd8155c53e1b",
      "31b10714487744068001251021db7dac",
      "960cd01b40004d25b85b5a0ef24445db",
      "573ba281a9254ba89f263038526a4853",
      "b833c5f2738d4ddfbdbef6b465f25b66",
      "75e93d05ccee4017820334ad61225c6a",
      "cfb269dbb54b48fb8ccb46ae78ef2789",
      "396be15e492f40baaa3c74f752e7d0d2",
      "6ea2b23f61c2495fa0b7735a868e985f",
      "433026a433804f0a8e40d86f21a5d808",
      "e110edfd259d44c89d016ad549b2a0ae",
      "bf4e107f70b34ed8b99d9632016eafcb",
      "39c7b738ffc84c83a43e6544d318c42d"
     ]
    },
    "executionInfo": {
     "elapsed": 13076,
     "status": "ok",
     "timestamp": 1752041779942,
     "user": {
      "displayName": "Arwa Hashem",
      "userId": "03711857765712881743"
     },
     "user_tz": -180
    },
    "id": "v_InafTRl35q",
    "outputId": "4a9943ec-ff75-426d-94d7-667fc9e1cf19"
   },
   "outputs": [],
   "source": [
    "arr=np.array(arr2)\n",
    "\n",
    "encoded_text=sentense_T.encode(arr,show_progress_bar=True)\n",
    "encoded_text"
   ]
  },
  {
   "cell_type": "code",
   "execution_count": null,
   "metadata": {
    "colab": {
     "base_uri": "https://localhost:8080/",
     "output_embedded_package_id": "18fOqkI-eOjgxvoIMTtr2pyz7pOHnl7WG"
    },
    "executionInfo": {
     "elapsed": 8138,
     "status": "ok",
     "timestamp": 1752041788081,
     "user": {
      "displayName": "Arwa Hashem",
      "userId": "03711857765712881743"
     },
     "user_tz": -180
    },
    "id": "4k8HDBDHswIO",
    "outputId": "9cdd9647-2082-43f2-f641-02e4c9f26539"
   },
   "outputs": [],
   "source": [
    "list(encoded_text)"
   ]
  },
  {
   "cell_type": "code",
   "execution_count": null,
   "metadata": {
    "colab": {
     "base_uri": "https://localhost:8080/"
    },
    "executionInfo": {
     "elapsed": 8,
     "status": "ok",
     "timestamp": 1752041788101,
     "user": {
      "displayName": "Arwa Hashem",
      "userId": "03711857765712881743"
     },
     "user_tz": -180
    },
    "id": "iezMRvmEpKrP",
    "outputId": "5e7abaed-b732-425d-b6eb-b9dbc7bd7a35"
   },
   "outputs": [],
   "source": [
    "import chromadb\n",
    "chroma_client=chromadb.PersistentClient(path=\"./chromadb-ar\")"
   ]
  },
  {
   "cell_type": "code",
   "execution_count": null,
   "metadata": {
    "colab": {
     "base_uri": "https://localhost:8080/",
     "height": 90
    },
    "executionInfo": {
     "elapsed": 33,
     "status": "ok",
     "timestamp": 1752041804087,
     "user": {
      "displayName": "Arwa Hashem",
      "userId": "03711857765712881743"
     },
     "user_tz": -180
    },
    "id": "-ZR9qXn_0bna",
    "outputId": "cf9260f8-f4bd-4f0d-b660-c0ab66028dc5"
   },
   "outputs": [],
   "source": [
    "collection = chroma_client.get_collection(name=\"yarb\")\n",
    "\n",
    "\n",
    "'''\n",
    "approximate nearest neighbor (ANN)\n",
    " search in high-dimensional vector spaces\n",
    "'''"
   ]
  },
  {
   "cell_type": "code",
   "execution_count": null,
   "metadata": {
    "executionInfo": {
     "elapsed": 87,
     "status": "ok",
     "timestamp": 1752041808033,
     "user": {
      "displayName": "Arwa Hashem",
      "userId": "03711857765712881743"
     },
     "user_tz": -180
    },
    "id": "g1De2x1SB1yQ"
   },
   "outputs": [],
   "source": [
    "embd_array=[x.tolist() for x in encoded_text]"
   ]
  },
  {
   "cell_type": "code",
   "execution_count": null,
   "metadata": {},
   "outputs": [],
   "source": [
    "meta_data_dictionary=meta_data.to_dict(orient=\"records\")\n",
    "meta_data_dictionary"
   ]
  },
  {
   "cell_type": "code",
   "execution_count": null,
   "metadata": {},
   "outputs": [],
   "source": [
    "from copy import deepcopy\n",
    "meta_data_for_new_30K_record={\n",
    "    \"source\":\"\",\n",
    "    \"tittle\":\"\"\n",
    "}\n",
    "empty_list=[]\n",
    "for i in range (0,30000):\n",
    "    empty_list.append(deepcopy(meta_data_for_new_30K_record))\n",
    "len(empty_list)\n",
    "\n",
    "for x in empty_list:\n",
    "    meta_data_dictionary.append(x)\n",
    "len(meta_data_dictionary)"
   ]
  },
  {
   "cell_type": "code",
   "execution_count": null,
   "metadata": {},
   "outputs": [],
   "source": [
    "for x in empty_list:\n",
    "    meta_data_dictionary.append(x)\n",
    "meta_data_dictionary[5001]"
   ]
  },
  {
   "cell_type": "code",
   "execution_count": null,
   "metadata": {},
   "outputs": [],
   "source": [
    "meta_data_dictionary[4999]"
   ]
  },
  {
   "cell_type": "code",
   "execution_count": null,
   "metadata": {},
   "outputs": [],
   "source": [
    "ids=[str(x) for x in range(0,35000)]\n",
    "ids[34999]"
   ]
  },
  {
   "cell_type": "code",
   "execution_count": null,
   "metadata": {},
   "outputs": [],
   "source": [
    "print(len(arr2))\n",
    "print(len(embd_array))\n",
    "print(len(ids))\n",
    "print(len(meta_data_dictionary))"
   ]
  },
  {
   "cell_type": "code",
   "execution_count": null,
   "metadata": {
    "colab": {
     "base_uri": "https://localhost:8080/"
    },
    "executionInfo": {
     "elapsed": 5893,
     "status": "ok",
     "timestamp": 1752041815226,
     "user": {
      "displayName": "Arwa Hashem",
      "userId": "03711857765712881743"
     },
     "user_tz": -180
    },
    "id": "p6AdEhbqGqP4",
    "outputId": "50925ab9-e1b8-41c1-bd38-70a251fe9ca0"
   },
   "outputs": [],
   "source": [
    "batch_size = 500\n",
    "start_index = 5000    \n",
    "for i in range(start_index, len(arr), batch_size):\n",
    "    collection.add(\n",
    "        documents=arr[i:i+batch_size].tolist(),\n",
    "        embeddings=embd_array[i:i+batch_size],\n",
    "        ids=ids[i:i+batch_size],\n",
    "        metadatas=meta_data_dictionary[i:i+batch_size]\n",
    "    )\n"
   ]
  },
  {
   "cell_type": "code",
   "execution_count": null,
   "metadata": {
    "colab": {
     "base_uri": "https://localhost:8080/"
    },
    "executionInfo": {
     "elapsed": 48,
     "status": "ok",
     "timestamp": 1752041862971,
     "user": {
      "displayName": "Arwa Hashem",
      "userId": "03711857765712881743"
     },
     "user_tz": -180
    },
    "id": "8gKtRiXZH-WB",
    "outputId": "265291e9-69b8-4a02-8caa-3414d0f40b2d"
   },
   "outputs": [],
   "source": [
    "question = \"ما السبب في صغر الأسنان بالمقارنة مع حجم الفكين؟\"\n",
    "question_embed = sentense_T.encode(question)\n",
    "\n",
    "results = collection.query(\n",
    "    query_embeddings=question_embed.tolist(),\n",
    "    n_results=3\n",
    ")\n",
    "\n",
    "print(results)"
   ]
  },
  {
   "cell_type": "markdown",
   "metadata": {
    "id": "qPMB5rbx1gsf"
   },
   "source": [
    "# FAISS"
   ]
  },
  {
   "cell_type": "code",
   "execution_count": null,
   "metadata": {
    "executionInfo": {
     "elapsed": 33,
     "status": "ok",
     "timestamp": 1752042074449,
     "user": {
      "displayName": "Arwa Hashem",
      "userId": "03711857765712881743"
     },
     "user_tz": -180
    },
    "id": "tWTlFcI7Uf1i"
   },
   "outputs": [],
   "source": [
    "import faiss\n",
    "from copy import deepcopy"
   ]
  },
  {
   "cell_type": "code",
   "execution_count": null,
   "metadata": {
    "colab": {
     "base_uri": "https://localhost:8080/",
     "height": 66,
     "referenced_widgets": [
      "486952d0e6414e90a9df66d77ffb0c98",
      "57c8de1cb2724df0a9d69be70633fdfe",
      "75f092ba0e144b27b1233166a4d81954",
      "aba0670dffd14e47a0836d4253d35e3e",
      "fc424cfad327445c812c12dc6375aacf",
      "492720e1f0574e01a2296b33267c1a8f",
      "fdc8b4adc6184701949f0ee477f30c3d",
      "c2a5d94f822e48d4b8f2070ac9e0a8e2",
      "3722f15b920c48f6bfbfc372c388ff51",
      "5efa87995e7143fa9d7279ffb5143f70",
      "da79f653395f4e988db4f71e906581a2"
     ]
    },
    "executionInfo": {
     "elapsed": 12935,
     "status": "ok",
     "timestamp": 1752043485354,
     "user": {
      "displayName": "Arwa Hashem",
      "userId": "03711857765712881743"
     },
     "user_tz": -180
    },
    "id": "d7ecmBxm1qwX",
    "outputId": "b002d766-9452-4786-889a-1cc3639639b5"
   },
   "outputs": [],
   "source": [
    "encoded_text.shape"
   ]
  },
  {
   "cell_type": "code",
   "execution_count": null,
   "metadata": {
    "executionInfo": {
     "elapsed": 42,
     "status": "ok",
     "timestamp": 1752043535946,
     "user": {
      "displayName": "Arwa Hashem",
      "userId": "03711857765712881743"
     },
     "user_tz": -180
    },
    "id": "v-nv-IFO7Ld8"
   },
   "outputs": [],
   "source": [
    "norm_encoded = deepcopy(encoded_text)\n",
    "faiss.normalize_L2(norm_encoded)"
   ]
  },
  {
   "cell_type": "code",
   "execution_count": null,
   "metadata": {
    "executionInfo": {
     "elapsed": 39,
     "status": "ok",
     "timestamp": 1752043640449,
     "user": {
      "displayName": "Arwa Hashem",
      "userId": "03711857765712881743"
     },
     "user_tz": -180
    },
    "id": "TnIhjQhE796z"
   },
   "outputs": [],
   "source": [
    "faiss_index = faiss.IndexIDMap( faiss.IndexFlatIP(512) )\n",
    "\n",
    "faiss_index.add_with_ids( norm_encoded, ids )"
   ]
  },
  {
   "cell_type": "code",
   "execution_count": null,
   "metadata": {
    "colab": {
     "base_uri": "https://localhost:8080/"
    },
    "executionInfo": {
     "elapsed": 22,
     "status": "ok",
     "timestamp": 1752043646530,
     "user": {
      "displayName": "Arwa Hashem",
      "userId": "03711857765712881743"
     },
     "user_tz": -180
    },
    "id": "wYVYXUCj7r0c",
    "outputId": "51a9f8d9-ad3f-4a69-94a0-658357d0e8bc"
   },
   "outputs": [],
   "source": [
    "question = \"ما السبب في صغر الأسنان بالمقارنة مع حجم الفكين؟\"\n",
    "question_embed = sentense_T.encode([question])\n",
    "\n",
    "faiss.normalize_L2(question_embed)\n",
    "\n",
    "results = faiss_index.search(question_embed, 3)\n",
    "results"
   ]
  },
  {
   "cell_type": "code",
   "execution_count": null,
   "metadata": {},
   "outputs": [],
   "source": [
    "## Save\n",
    "# should be created first\n",
    "import pickle\n",
    "\n",
    "with open(\"./faiss_ar_docs/encoded_data.pickle\", \"wb\") as handle:\n",
    "    pickle.dump(faiss_index, handle, protocol=pickle.HIGHEST_PROTOCOL)\n",
    "\n",
    "with open(\"./faiss_ar_docs/data.pickle\", \"wb\") as handle:\n",
    "    pickle.dump(train_data, handle, protocol=pickle.HIGHEST_PROTOCOL)"
   ]
  },
  {
   "cell_type": "markdown",
   "metadata": {},
   "source": [
    "# comparison between Chroma_db and FAISS\n",
    "\n",
    "---\n",
    "\n"
   ]
  },
  {
   "cell_type": "markdown",
   "metadata": {},
   "source": [
    "speed"
   ]
  },
  {
   "cell_type": "code",
   "execution_count": null,
   "metadata": {},
   "outputs": [],
   "source": [
    "#Chroma preformance\n",
    "import time\n",
    "\n",
    "result=[]\n",
    "questions=np.array(data_with_answer[\"question\"]) # حدت الاسئلة الي ليها اجابات عشان اقدر اقيم الدقة \n",
    "encoded_questions=sentense_T.encode(questions,show_progress_bar=True)\n",
    "\n",
    "current_time=time.process_time()\n",
    "\n",
    "for i in range(len(questions)):\n",
    "  results = collection.query(\n",
    "    query_embeddings=encoded_questions[i].tolist(),\n",
    "    n_results=3\n",
    "  )\n",
    "\n",
    "  result.append(results)\n",
    "excution_time=time.process_time()-current_time\n",
    "print(\"execution time\",excution_time)\n",
    "#execution time execution time 11.015625"
   ]
  },
  {
   "cell_type": "code",
   "execution_count": null,
   "metadata": {},
   "outputs": [],
   "source": [
    "encoded_questions[1].shape"
   ]
  },
  {
   "cell_type": "markdown",
   "metadata": {},
   "source": [
    "#we vave to normalize becuase we care about the direction not the magnitude \n",
    "[1,1], [10,10] same direction different magnitude , when we normalixe we convert all vectors to be 1 unit length , then compare fairly with distance between vectors and subsequantly the angel "
   ]
  },
  {
   "cell_type": "code",
   "execution_count": null,
   "metadata": {},
   "outputs": [],
   "source": [
    "#FAISS preformance\n",
    "\n",
    "faiss_res=[]\n",
    "current_time=time.process_time()\n",
    "for i in range(len(encoded_questions)):\n",
    " question_reshaped=encoded_questions[i].reshape(1,512)\n",
    " faiss.normalize_L2(question_reshaped) # must take a 2d array \n",
    " score,id = faiss_index.search(question_reshaped, 3)\n",
    " faiss_res.append({\n",
    "  \"scores\":score,\n",
    "  \"id\":id\n",
    " })\n",
    "  \n",
    "  \n",
    "excution_time=time.process_time()-current_time\n",
    "print(\"execution time\",excution_time)\n",
    "#execution time 16.046875\n",
    "\n",
    "\n",
    "'''\n",
    " next time i should consider dealing with dictionaries  and use  gpu\n",
    "زيادة عدد الدوكيمنت بخليي \n",
    "faiss\n",
    "ابطأ ؟\n",
    "'''"
   ]
  },
  {
   "cell_type": "markdown",
   "metadata": {},
   "source": [
    "# Accuracy"
   ]
  },
  {
   "cell_type": "code",
   "execution_count": null,
   "metadata": {},
   "outputs": [],
   "source": [
    "result[0]"
   ]
  },
  {
   "cell_type": "code",
   "execution_count": null,
   "metadata": {},
   "outputs": [],
   "source": [
    "data_with_answer[\"source\"][0]"
   ]
  },
  {
   "cell_type": "markdown",
   "metadata": {},
   "source": [
    "# chroma "
   ]
  },
  {
   "cell_type": "code",
   "execution_count": null,
   "metadata": {},
   "outputs": [],
   "source": [
    "'''\n",
    "will detect accuracy on 3 levels \n",
    "\n",
    "\n",
    "1- valid >> answer belongs to this document (same id)\n",
    "\n",
    "2- similar >> related document i the same webpage (same source)\n",
    "\n",
    "3- invalid >> totally retrive  different document\n",
    "\n",
    "'''\n",
    "\n",
    "evaluation_dict={\n",
    "    \"valid\":0,\n",
    "    \"similar\":0,\n",
    "    \"invalid\":0\n",
    "}\n",
    "f=0\n",
    "\n",
    "for i in result:\n",
    "    predicted_ids=i[\"ids\"][0][0]\n",
    "    true_id=true_id = data_with_answer[\"id\"].loc[f]\n",
    "\n",
    "\n",
    "    predicted_meta=i[\"metadatas\"][0][0][\"source\"]\n",
    "\n",
    "    true_meta=data_with_answer[\"source\"].iloc[f]\n",
    "\n",
    "    if str(predicted_ids)==str(true_id):\n",
    "        evaluation_dict[\"valid\"]+=1\n",
    "        f+=1\n",
    "        \n",
    "\n",
    "    elif predicted_meta==true_meta:\n",
    "        evaluation_dict[\"similar\"]+=1\n",
    "        f+=1\n",
    "    \n",
    "    else:\n",
    "        evaluation_dict[\"invalid\"]+=1\n",
    "        f+=1\n",
    "    \n",
    "\n",
    "\n",
    "evaluation_dict"
   ]
  },
  {
   "cell_type": "code",
   "execution_count": null,
   "metadata": {},
   "outputs": [],
   "source": [
    "f=0\n",
    "for i in result:\n",
    "    predicted_ids=i[\"ids\"][0][0]\n",
    "    true_id=true_id = data_with_answer[\"id\"].iloc[f]\n",
    "    print(predicted_ids,true_id,predicted_ids==true_id)\n",
    "    f+=1"
   ]
  },
  {
   "cell_type": "markdown",
   "metadata": {},
   "source": [
    "# FAISS"
   ]
  },
  {
   "cell_type": "code",
   "execution_count": null,
   "metadata": {},
   "outputs": [],
   "source": [
    "faiss_res[0]"
   ]
  },
  {
   "cell_type": "code",
   "execution_count": null,
   "metadata": {},
   "outputs": [],
   "source": [
    "evaluation_dict_f={\n",
    "    \"valid\":0,\n",
    "    \"similar\":0,\n",
    "    \"invalid\":0\n",
    "}\n",
    "f=0\n",
    "\n",
    "for i in result:\n",
    "    predicted_ids=i[\"ids\"][0][0]\n",
    "    true_id=true_id = data_with_answer[\"id\"].iloc[f]\n",
    "    predicted_meta=i[\"metadatas\"][0][0][\"source\"]\n",
    "\n",
    "    true_meta=data_with_answer[\"source\"].iloc[f]\n",
    "\n",
    "    if str(predicted_ids)==str(true_id):\n",
    "        evaluation_dict_f[\"valid\"]+=1\n",
    "        f+=1\n",
    "        \n",
    "\n",
    "    elif predicted_meta==true_meta:\n",
    "        evaluation_dict_f[\"similar\"]+=1\n",
    "        f+=1\n",
    "    \n",
    "    else:\n",
    "        evaluation_dict_f[\"invalid\"]+=1\n",
    "        f+=1\n",
    "    \n",
    "\n",
    "\n",
    "evaluation_dict_f"
   ]
  },
  {
   "cell_type": "code",
   "execution_count": null,
   "metadata": {},
   "outputs": [],
   "source": []
  }
 ],
 "metadata": {
  "accelerator": "GPU",
  "colab": {
   "authorship_tag": "ABX9TyO6NxruFAbjAbzpABZ6mLCb",
   "gpuType": "T4",
   "provenance": []
  },
  "kernelspec": {
   "display_name": "base",
   "language": "python",
   "name": "python3"
  },
  "language_info": {
   "codemirror_mode": {
    "name": "ipython",
    "version": 3
   },
   "file_extension": ".py",
   "mimetype": "text/x-python",
   "name": "python",
   "nbconvert_exporter": "python",
   "pygments_lexer": "ipython3",
   "version": "3.12.3"
  }
 },
 "nbformat": 4,
 "nbformat_minor": 0
}
